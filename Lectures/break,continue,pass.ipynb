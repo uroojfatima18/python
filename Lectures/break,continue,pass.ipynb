{
  "nbformat": 4,
  "nbformat_minor": 0,
  "metadata": {
    "colab": {
      "provenance": [],
      "gpuType": "T4"
    },
    "kernelspec": {
      "name": "python3",
      "display_name": "Python 3"
    },
    "language_info": {
      "name": "python"
    },
    "accelerator": "GPU"
  },
  "cells": [
    {
      "cell_type": "code",
      "execution_count": null,
      "metadata": {
        "colab": {
          "base_uri": "https://localhost:8080/"
        },
        "id": "uQgsTqawV-m1",
        "outputId": "ae92e52b-e924-4b3b-bdae-361c173105b3"
      },
      "outputs": [
        {
          "output_type": "stream",
          "name": "stdout",
          "text": [
            "0\n",
            "1\n",
            "2\n",
            "3\n",
            "4\n",
            "5\n",
            "6\n",
            "7\n"
          ]
        }
      ],
      "source": [
        "#break\n",
        "for num in range(10):\n",
        "  if num == 8:\n",
        "    break        # break for rokne k lie\n",
        "  else:\n",
        "    print(num)\n"
      ]
    },
    {
      "cell_type": "code",
      "source": [
        "#break\n",
        "\n",
        "name1=(\"urooj\")\n",
        "name2=(\"fatima\")\n",
        "\n",
        "for name in name1:  # name variable name1 \"urooj\"\n",
        "  if name == \"name2\": # name equal to name2 means \"fatima\" then break\n",
        "    break\n",
        "  else:\n",
        "    print(name)"
      ],
      "metadata": {
        "colab": {
          "base_uri": "https://localhost:8080/"
        },
        "id": "YsCcCKWV-iwF",
        "outputId": "40c3e73e-b215-4ed6-b60c-6bf4c6aaf3af"
      },
      "execution_count": 21,
      "outputs": [
        {
          "output_type": "stream",
          "name": "stdout",
          "text": [
            "u\n",
            "r\n",
            "o\n",
            "o\n",
            "j\n"
          ]
        }
      ]
    },
    {
      "cell_type": "code",
      "source": [
        "#continue\n",
        "for i in range(8):\n",
        "  if i == 4:\n",
        "    continue\n",
        "  print(i)"
      ],
      "metadata": {
        "colab": {
          "base_uri": "https://localhost:8080/"
        },
        "id": "NpqE_BNJ-VUF",
        "outputId": "c898b44c-f458-4013-d26f-c3275184add3"
      },
      "execution_count": 7,
      "outputs": [
        {
          "output_type": "stream",
          "name": "stdout",
          "text": [
            "0\n",
            "1\n",
            "2\n",
            "3\n",
            "5\n",
            "6\n",
            "7\n"
          ]
        }
      ]
    },
    {
      "cell_type": "code",
      "source": [
        "#continue\n",
        "for num in range(10):\n",
        "  if num == 4 or num == 7:\n",
        "   continue     # continue is for skip\n",
        "  else:\n",
        "     pass        # or add other code to be executed when num is not 4 or 7\n",
        "  print(num)\n",
        "\n",
        "    # 4 or 7 skip"
      ],
      "metadata": {
        "colab": {
          "base_uri": "https://localhost:8080/"
        },
        "id": "mYUz2YWAWOGe",
        "outputId": "9fc289a8-419c-462d-b08b-c1e9244cc0f7"
      },
      "execution_count": 4,
      "outputs": [
        {
          "output_type": "stream",
          "name": "stdout",
          "text": [
            "0\n",
            "1\n",
            "2\n",
            "3\n",
            "5\n",
            "6\n",
            "8\n",
            "9\n"
          ]
        }
      ]
    },
    {
      "cell_type": "code",
      "source": [
        "# pass\n",
        "for i in range(5):\n",
        "    if i == 3:\n",
        "        pass  # Kuch nahi karega\n",
        "    print(i)\n"
      ],
      "metadata": {
        "colab": {
          "base_uri": "https://localhost:8080/"
        },
        "id": "eZ5auKYbXK4F",
        "outputId": "1aa4b0d7-c0cb-4a3c-f749-c1571d4de161"
      },
      "execution_count": 5,
      "outputs": [
        {
          "output_type": "stream",
          "name": "stdout",
          "text": [
            "0\n",
            "1\n",
            "2\n",
            "3\n",
            "4\n"
          ]
        }
      ]
    }
  ]
}