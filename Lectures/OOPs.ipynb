{
  "nbformat": 4,
  "nbformat_minor": 0,
  "metadata": {
    "colab": {
      "provenance": []
    },
    "kernelspec": {
      "name": "python3",
      "display_name": "Python 3"
    },
    "language_info": {
      "name": "python"
    }
  },
  "cells": [
    {
      "cell_type": "markdown",
      "source": [
        "# **What is Class ?**"
      ],
      "metadata": {
        "id": "12Mp0DvjYEnS"
      }
    },
    {
      "cell_type": "code",
      "source": [
        "#basic  class and object at beginer level\n",
        "class Name:\n",
        "  name =\"urooj\"   # 1 blueprint ma add krne k bad sabme vohi add hoga\n",
        "name1=Name()\n",
        "name2=Name()\n",
        "print(name1.name)\n",
        "print(name2.name)"
      ],
      "metadata": {
        "colab": {
          "base_uri": "https://localhost:8080/"
        },
        "id": "96ZFfkI-4-QC",
        "outputId": "917e9844-ce8f-4f6a-8bfe-4f78290076a8"
      },
      "execution_count": null,
      "outputs": [
        {
          "output_type": "stream",
          "name": "stdout",
          "text": [
            "urooj\n",
            "urooj\n"
          ]
        }
      ]
    },
    {
      "cell_type": "code",
      "source": [
        "#basic code\n",
        "class Car:\n",
        "  color =\" black\"\n",
        "  brand =\"fortuner\"\n",
        "  model =\"2023\"\n",
        "  # class created\n",
        "\n",
        "color= Car ()\n",
        "brand =Car()\n",
        "model =Car()\n",
        "# object creatd\n",
        "\n",
        "print(f\"My Favorite Car is {brand.brand} in {color.color} color ,and i bought a model {model.model} \")"
      ],
      "metadata": {
        "colab": {
          "base_uri": "https://localhost:8080/"
        },
        "id": "_Aex7eo86Sxv",
        "outputId": "0d683660-3bec-409b-d537-c65bda84f534"
      },
      "execution_count": null,
      "outputs": [
        {
          "output_type": "stream",
          "name": "stdout",
          "text": [
            "My Favorite Car is fortuner in  black color ,and i bought a model 2023 \n"
          ]
        }
      ]
    },
    {
      "cell_type": "markdown",
      "source": [
        "# **Constructor**\n",
        "In constructor self is permenant"
      ],
      "metadata": {
        "id": "_3ldRJ2W4oRh"
      }
    },
    {
      "cell_type": "code",
      "source": [
        "#__init__ function\n",
        "class Student():\n",
        "  def __init__(self, name , marks ):   #constructor\n",
        "    self.name=name\n",
        "    self.marks=marks\n",
        "\n",
        "s1 = Student(\"urooj\", 80)\n",
        "s2 = Student(\"fatima\", 90)\n",
        "\n",
        "print(s1.name,s1.marks )\n",
        "print(s2.name,s2.marks)"
      ],
      "metadata": {
        "colab": {
          "base_uri": "https://localhost:8080/"
        },
        "id": "9yjP7RbyC1AG",
        "outputId": "6e8530f5-08c0-4d37-f818-9e875718965c"
      },
      "execution_count": null,
      "outputs": [
        {
          "output_type": "stream",
          "name": "stdout",
          "text": [
            "urooj 80\n",
            "fatima 90\n"
          ]
        }
      ]
    },
    {
      "cell_type": "code",
      "source": [
        "class Student:\n",
        "  def __init__(self, name, marks):\n",
        "    self.name = name\n",
        "    self.marks = marks       #constructor\n",
        "\n",
        "S1=Student(\"urooj\", 80)\n",
        "S2=Student(\"fatima\", 90)\n",
        "\n",
        "print(S1.name, S1.marks)\n",
        "print(S2.name, S2.marks)\n"
      ],
      "metadata": {
        "id": "-K9U-n8sDrm7"
      },
      "execution_count": null,
      "outputs": []
    },
    {
      "cell_type": "markdown",
      "source": [
        "# **Methods And Attribute**\n",
        "\n",
        "# Methods : are functions that belong to object.\n",
        "# Attribute :The data stored for an object are called attributes."
      ],
      "metadata": {
        "id": "yEQSuvx5w3VY"
      }
    },
    {
      "cell_type": "code",
      "source": [
        "class Student:   #class\n",
        "  def __init__(self, name,age, marks):   # self (parameter)\n",
        "    self.name = name\n",
        "    self.age = age\n",
        "    self.marks = marks\n",
        "\n",
        "  def greeting(self):          # method\n",
        "      print(\"Hello Students!\")\n",
        "  def get_Rank(self):\n",
        "    print(\"Passed!\")\n",
        "\n",
        "s1.greeting()\n",
        "s1=Student(\"Urooj\", 18 ,'Passed!')          #object\n",
        "print(f\"Student 1.\\nName: {s1.name},\\nAge: {s1.age}\")\n",
        "s1.get_Rank()\n",
        "print('--------------------------------------------')\n",
        "s2=Student(\"Ayesha\", 19 ,'Passed!')         #object\n",
        "print(f\"Student 2. Name: {s2.name},\\nAge: {s2.age}\")\n",
        "s2.get_Rank()\n",
        "print('--------------------------------------------')\n",
        "s3=Student(\"Fatima\", 20 ,'Passed!')         #object\n",
        "print(f\"Student 3. Name: {s3.name},\\nAge: {s3.age}\")\n",
        "s3.get_Rank()\n",
        "print('--------------------------------------------')"
      ],
      "metadata": {
        "colab": {
          "base_uri": "https://localhost:8080/"
        },
        "id": "FJ5yyFU7yglN",
        "outputId": "b7769d23-101d-43d8-b831-53afe9051056"
      },
      "execution_count": null,
      "outputs": [
        {
          "output_type": "stream",
          "name": "stdout",
          "text": [
            "Hello Students!\n",
            "Student 1.\n",
            "Name: Urooj,\n",
            "Age: 18\n",
            "Passed!\n",
            "--------------------------------------------\n",
            "Student 2. Name: Ayesha,\n",
            "Age: 19\n",
            "Passed!\n",
            "--------------------------------------------\n",
            "Student 3. Name: Fatima,\n",
            "Age: 20\n",
            "Passed!\n",
            "--------------------------------------------\n"
          ]
        }
      ]
    },
    {
      "cell_type": "code",
      "source": [
        "class Student:\n",
        "  name =\" ayesha\"     # class attribute\n",
        "  def __init__(self, name ,age, marks):    #constructor\n",
        "    self.name= name\n",
        "    self.age =age\n",
        "    self.marks = marks\n",
        "\n",
        "#object creation\n",
        "student1 = Student(\"Urooj\" , 18 ,89)       # obj attr\n",
        "student2 = Student(\"fatima\",19,98)\n",
        "\n",
        "# Accessing instance attributes\n",
        "print(f\"student1 name is {student1.name} and Age {student1.age} and  marks are: {student1.marks}\")\n",
        "print()\n",
        "print(f\"student2 name is {student2.name} and Age {student2.age} and  marks are: {student2.marks}\")"
      ],
      "metadata": {
        "colab": {
          "base_uri": "https://localhost:8080/"
        },
        "id": "_j6Fg79kD5GR",
        "outputId": "73f72687-d833-4660-866c-5a7447c7fe31"
      },
      "execution_count": null,
      "outputs": [
        {
          "output_type": "stream",
          "name": "stdout",
          "text": [
            "student1 name is Urooj and Age 18 and  marks are: 89\n",
            "\n",
            "student2 name is fatima and Age 19 and  marks are: 98\n"
          ]
        }
      ]
    },
    {
      "cell_type": "code",
      "source": [
        "class Teacher:\n",
        "   name =\" ayesha\"  # class attribute\n",
        "   school =\"PIAIC\"\n",
        "   print(school)\n",
        "   def __init__(self, name , subject):\n",
        "    self.name= name       #obj attr > class attr same name p obj ko prefrence milygi\n",
        "    self.subject = subject\n",
        "\n",
        "teacher1 =Teacher(\"Ahmed\",\"Math\" )\n",
        "teacher2=Teacher(\"Ayesha\" , \" English\")\n",
        "print(f\"Eight class teacher is {teacher1.name} and his subject was {teacher1.subject}\")\n",
        "print(f\"Eight class teacher is {teacher2.name} and her subject was {teacher2.subject}\")"
      ],
      "metadata": {
        "colab": {
          "base_uri": "https://localhost:8080/"
        },
        "id": "jpGc6aG-YCmc",
        "outputId": "5d6b66b7-1a19-41b3-b803-8bbb43ecc939"
      },
      "execution_count": null,
      "outputs": [
        {
          "output_type": "stream",
          "name": "stdout",
          "text": [
            "PIAIC\n",
            "Eight class teacher is Ahmed and his subject was Math\n",
            "Eight class teacher is Ayesha and her subject was  English\n"
          ]
        }
      ]
    },
    {
      "cell_type": "code",
      "source": [
        "class Car:\n",
        "    def __init__(self ,brand, model):    #constructor\n",
        "      self.brand = brand\n",
        "      self.model = model\n",
        "\n",
        "my_car =Car(\"Toyota\", \"2022\")     #obj attr\n",
        "print(my_car.brand)\n",
        "print(my_car.model)\n"
      ],
      "metadata": {
        "colab": {
          "base_uri": "https://localhost:8080/"
        },
        "id": "pWG2QcSPOvP-",
        "outputId": "2b4dd577-8d2a-468e-a9e6-59c663725f9f"
      },
      "execution_count": null,
      "outputs": [
        {
          "output_type": "stream",
          "name": "stdout",
          "text": [
            "Toyota\n",
            "2022\n"
          ]
        }
      ]
    },
    {
      "cell_type": "markdown",
      "source": [
        "# Non-Static Method\n",
        "Non-Static method use(self)parameter its important"
      ],
      "metadata": {
        "id": "QRYpYvBjS5PW"
      }
    },
    {
      "cell_type": "code",
      "source": [
        "class Teacher:\n",
        "    print('Teacher name and Subject')       #class attr\n",
        "    def __init__(self, name, subject):\n",
        "        self.name = name\n",
        "        self.subject = subject\n",
        "\n",
        "    def greet(self):       # non static method     (self imp)\n",
        "        print(f\"Hello, I am {self.name}, and I teach {self.subject}.\")\n",
        "\n",
        "teacher1 = Teacher(\"Mr. Ahmed\", \"Math\")\n",
        "teacher1.greet()\n"
      ],
      "metadata": {
        "colab": {
          "base_uri": "https://localhost:8080/"
        },
        "id": "OS0pLolnR-3H",
        "outputId": "6ebbe379-2944-49fc-9ef4-ab0435635f31"
      },
      "execution_count": null,
      "outputs": [
        {
          "output_type": "stream",
          "name": "stdout",
          "text": [
            "Teacher name and Subject\n",
            "Hello, I am Mr. Ahmed, and I teach Math.\n"
          ]
        }
      ]
    },
    {
      "cell_type": "markdown",
      "source": [
        "# Static Method\n",
        "Static method don't use self parameter\n",
        "class level method called static method."
      ],
      "metadata": {
        "id": "fm7jQO0tTF2k"
      }
    },
    {
      "cell_type": "code",
      "source": [
        "class Car:\n",
        "  def __init__(self,brand,model):\n",
        "    self.brand = brand\n",
        "    self.model = model\n",
        "\n",
        "    print(f\"Car brand {self.brand},and model {self.model}\")\n",
        "\n",
        "  @staticmethod          # decorator\n",
        "  def hello():     #without self\n",
        "   print('hello')\n",
        "\n",
        "car=Car ('mercedes',2023)\n",
        "car.hello()\n"
      ],
      "metadata": {
        "colab": {
          "base_uri": "https://localhost:8080/"
        },
        "id": "O26n4QtlTKzL",
        "outputId": "d8344450-999a-49dd-fbba-82014b734b0d"
      },
      "execution_count": 42,
      "outputs": [
        {
          "output_type": "stream",
          "name": "stdout",
          "text": [
            "Car brand mercedes,and model 2023\n",
            "hello\n"
          ]
        }
      ]
    },
    {
      "cell_type": "markdown",
      "source": [
        "# **PRACTICE QUESTION**\n",
        "Create student class that takes name and marks of 3 subjects as arguments in constructor.\n",
        "Then create  a method to print the average.\n",
        "\n"
      ],
      "metadata": {
        "id": "P2uoNo_F6jZW"
      }
    },
    {
      "cell_type": "code",
      "source": [
        "# Writen by me\n",
        "class Student:         #constructor\n",
        "  def __init__(self, name, marks1,marks2,marks3):   # constructor\n",
        "    self.name = name\n",
        "    self.marks = marks1,marks2,marks3\n",
        "\n",
        "  def avg(self):   # method\n",
        "    avg = ((self.marks[0] + self.marks[1] + self.marks[2]) /3)\n",
        "    print(f\"Average marks for {self.name}: {avg}\")\n",
        "\n",
        "s1 =Student('urooj', 76,87,90) # obj attr\n",
        "s1.avg()\n",
        "\n",
        "\n"
      ],
      "metadata": {
        "colab": {
          "base_uri": "https://localhost:8080/"
        },
        "id": "o3El2KgDPKzT",
        "outputId": "8e4ebe13-66b5-4644-cae5-4b7ae1c057b2"
      },
      "execution_count": 17,
      "outputs": [
        {
          "output_type": "stream",
          "name": "stdout",
          "text": [
            "Average marks for urooj: 84.33333333333333\n"
          ]
        }
      ]
    },
    {
      "cell_type": "code",
      "source": [
        "# prompt: Create student class that takes name and marks of 3 subjects as arguments in constructor. Then create a method to print the average.\n",
        "# writen  by gpt\n",
        "class Student:\n",
        "    def __init__(self, name, marks1, marks2, marks3):\n",
        "        self.name = name\n",
        "        self.marks1 = marks1\n",
        "        self.marks2 = marks2\n",
        "        self.marks3 = marks3\n",
        "\n",
        "    def average(self):\n",
        "        avg = (self.marks1 + self.marks2 + self.marks3) / 3\n",
        "        print(f\"Average marks for {self.name}: {avg}\")\n",
        "\n",
        "s1 =Student('urooj',76,87,90)\n",
        "s1.average()"
      ],
      "metadata": {
        "colab": {
          "base_uri": "https://localhost:8080/"
        },
        "id": "TDFR4mNo_RH8",
        "outputId": "c395e36e-491a-4932-f0bb-299639575ac1"
      },
      "execution_count": 20,
      "outputs": [
        {
          "output_type": "stream",
          "name": "stdout",
          "text": [
            "Average marks for urooj: 84.33333333333333\n"
          ]
        }
      ]
    }
  ]
}