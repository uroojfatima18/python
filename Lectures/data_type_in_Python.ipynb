{
 "cells": [
  {
   "cell_type": "code",
   "execution_count": 2,
   "id": "09b9b38a",
   "metadata": {},
   "outputs": [
    {
     "name": "stdout",
     "output_type": "stream",
     "text": [
      "num1 42 <class 'int'>\n",
      "num2 -7 <class 'int'>\n",
      "num3 0 <class 'int'>\n"
     ]
    }
   ],
   "source": [
    "num1=42\n",
    "num2= -7\n",
    "num3 =0\n",
    "\n",
    "print(\"num1\",num1, type(num1))\n",
    "print(\"num2\", num2, type(num2))\n",
    "print(\"num3\",num3, type(num3))"
   ]
  },
  {
   "cell_type": "code",
   "execution_count": 4,
   "id": "c8ec145c",
   "metadata": {},
   "outputs": [
    {
     "name": "stdout",
     "output_type": "stream",
     "text": [
      "pi 3.1342 <class 'float'>\n",
      "small_float -0.001 <class 'float'>\n",
      "exp_float 150.0 <class 'float'>\n"
     ]
    }
   ],
   "source": [
    "pi=3.1342\n",
    "small_float =-0.001\n",
    "exp_float= 1.5e2\n",
    "\n",
    "print(\"pi\",pi, type(pi))\n",
    "print(\"small_float\",small_float, type(small_float))\n",
    "print(\"exp_float\",exp_float, type(exp_float))\n"
   ]
  },
  {
   "cell_type": "code",
   "execution_count": null,
   "id": "84b35bc0",
   "metadata": {},
   "outputs": [
    {
     "name": "stdout",
     "output_type": "stream",
     "text": [
      "<class 'str'>\n"
     ]
    }
   ],
   "source": [
    "greeting ='hello!python'\n",
    "\n",
    "print(\"Greeting\":  ,type(greeting))"
   ]
  },
  {
   "cell_type": "code",
   "execution_count": 13,
   "id": "64f57820",
   "metadata": {},
   "outputs": [
    {
     "name": "stdout",
     "output_type": "stream",
     "text": [
      "urooj fatima\n",
      "HAHAHA\n",
      "l\n"
     ]
    }
   ],
   "source": [
    "first_name= \"urooj\"\n",
    "last_name =\"fatima\"\n",
    "\n",
    "full_name = first_name + \" \" + last_name\n",
    "print(full_name)\n",
    "\n",
    "\n",
    "ha_3= \"HA\" * 3 \n",
    "print(ha_3)\n",
    "\n",
    "first_char = greeting[2]\n",
    "print(first_char)"
   ]
  },
  {
   "cell_type": "code",
   "execution_count": null,
   "id": "2cc4acde",
   "metadata": {},
   "outputs": [],
   "source": []
  }
 ],
 "metadata": {
  "kernelspec": {
   "display_name": "awfera",
   "language": "python",
   "name": "python3"
  },
  "language_info": {
   "codemirror_mode": {
    "name": "ipython",
    "version": 3
   },
   "file_extension": ".py",
   "mimetype": "text/x-python",
   "name": "python",
   "nbconvert_exporter": "python",
   "pygments_lexer": "ipython3",
   "version": "3.12.0"
  }
 },
 "nbformat": 4,
 "nbformat_minor": 5
}
