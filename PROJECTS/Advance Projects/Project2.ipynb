{
  "nbformat": 4,
  "nbformat_minor": 0,
  "metadata": {
    "colab": {
      "provenance": [],
      "gpuType": "T4"
    },
    "kernelspec": {
      "name": "python3",
      "display_name": "Python 3"
    },
    "language_info": {
      "name": "python"
    },
    "accelerator": "GPU"
  },
  "cells": [
    {
      "cell_type": "markdown",
      "source": [
        "# **Planetary WeightsDownload Project**"
      ],
      "metadata": {
        "id": "2mBuI46kJ17Y"
      }
    },
    {
      "cell_type": "markdown",
      "source": [
        "\n",
        "\"\"\"\n",
        "Prompts the user for a weight on Earth\n",
        "and a planet (in separate inputs). Then\n",
        "prints the equivalent weight on that planet.\n",
        "\n",
        "Note that the user should type in a planet with\n",
        "the first letter as uppercase, and you do not need\n",
        "to handle the case where a user types in something\n",
        "other than one of the planets (that is not Earth).\n",
        "\"\"\"\n",
        "\n",
        "\n"
      ],
      "metadata": {
        "id": "hfwxtICaJo_B"
      }
    },
    {
      "cell_type": "markdown",
      "source": [
        "# **Milestone 1: Mars Weight**"
      ],
      "metadata": {
        "id": "_V9PHsEpMLtG"
      }
    },
    {
      "cell_type": "code",
      "source": [
        "# Milestone 1: Mars Weight\n",
        "mars_constant:float = 0.378\n",
        "def weight_calculator():\n",
        "  try:\n",
        "    user_weight: float= float(input(\"Enter your weight on Earth ?(kg): \"))\n",
        "  except ValueError:\n",
        "    return 'Invalid Weight. PLease Enter a Number .'\n",
        "\n",
        "  planet_name=(input(\"Enter the planet(mars): \"))\n",
        "\n",
        "  if planet_name.lower() == \"mars\":\n",
        "    print(f\"Your weight on {planet_name.capitalize()} is : {round((user_weight * mars_constant),2)}kg \")\n",
        "  else:\n",
        "      print(\"Invalid Planet Name\")\n",
        "weight_calculator()"
      ],
      "metadata": {
        "id": "L9B_zHpIMK1f"
      },
      "execution_count": null,
      "outputs": []
    },
    {
      "cell_type": "markdown",
      "source": [
        "# **Milestone 2: Adding in All Planets**"
      ],
      "metadata": {
        "id": "zWYvEYbwMFCC"
      }
    },
    {
      "cell_type": "code",
      "source": [
        "\n",
        "\"\"\"\n",
        "Prompts the user for a weight on Earth\n",
        "and prints the equivalent weight on Mars.\n",
        "\"\"\"\n",
        "mercury_constant:float = 0.376\n",
        "venus_constant:float = 0.889\n",
        "mars_constant:float = 0.378\n",
        "jupiter_constant:float = 2.36\n",
        "saturn_constant:float = 1.081\n",
        "uranus_constant:float = 0.815\n",
        "neptune_constant:float = 1.14\n",
        "\n",
        "def weight_calculator():\n",
        "  try:\n",
        "    user_weight: float= float(input(\"Enter your weight on Earth ?(kg): \"))\n",
        "  except ValueError:\n",
        "    return 'Invalid Weight.Enter a number .'\n",
        "  planet_name=(input(\"Enter the name of the planet in our Solar System: \"))\n",
        "\n",
        "\n",
        "  if planet_name.lower() == \"mars\":\n",
        "      gravity =  mars_constant\n",
        "  elif planet_name.lower() == \"mercury\":\n",
        "    gravity =mercury_constant\n",
        "  elif planet_name.lower() == \"venus\":\n",
        "      gravity =  venus_constant\n",
        "  elif planet_name.lower()==\"jupiter\" :\n",
        "      gravity =jupiter_constant\n",
        "  elif planet_name.lower()==\"saturn\" :\n",
        "      gravity =saturn_constant\n",
        "  elif planet_name.lower()==\"uranus\" :\n",
        "      gravity =uranus_constant\n",
        "  elif planet_name.lower()==\"neptune\" :\n",
        "      gravity =neptune_constant\n",
        "  else:\n",
        "    return 'Invalid Planet Name.valid names are : \"Mercury\", \"Venus\",\" Mars\", \"Jupiter\", \"Saturn\", \"Uranus\",\" Neptune\".'\n",
        "\n",
        "  weight= round((user_weight *gravity),2)\n",
        "  return f\"Your weight on {planet_name.capitalize()} is : {weight}kg \"\n",
        "\n",
        "print(weight_calculator())"
      ],
      "metadata": {
        "id": "xLSrelYICL9P"
      },
      "execution_count": null,
      "outputs": []
    }
  ]
}