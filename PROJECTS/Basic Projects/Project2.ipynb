{
  "nbformat": 4,
  "nbformat_minor": 0,
  "metadata": {
    "colab": {
      "provenance": []
    },
    "kernelspec": {
      "name": "python3",
      "display_name": "Python 3"
    },
    "language_info": {
      "name": "python"
    }
  },
  "cells": [
    {
      "cell_type": "markdown",
      "source": [
        "# **2. Double it**\n",
        "Write a program that asks a user to enter a number. Your program will then double that number and print out the result. It will repeat that process until the value is 100 or greater.\n",
        "\n",
        "For example if the user enters the number 2 you would then print:\n",
        "\n",
        "4 8 16 32 64 128\n",
        "\n",
        "We stop at 128 because that value is greater than 100"
      ],
      "metadata": {
        "id": "_WqndVJsOWxS"
      }
    },
    {
      "cell_type": "code",
      "source": [
        "def main():\n",
        "    # User input\n",
        "    curr_value = int(input(\"Enter a number: \"))\n",
        "\n",
        "    # While loop to double the number until it is 100 or greater\n",
        "    while curr_value < 100:\n",
        "        curr_value *= 2\n",
        "        print(curr_value)  # Print the current value after doubling\n",
        "\n",
        "# Call the main function to run the program\n",
        "main()"
      ],
      "metadata": {
        "id": "X5tBMJPGOdrQ"
      },
      "execution_count": null,
      "outputs": []
    }
  ]
}