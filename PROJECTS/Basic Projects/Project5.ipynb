{
  "nbformat": 4,
  "nbformat_minor": 0,
  "metadata": {
    "colab": {
      "provenance": []
    },
    "kernelspec": {
      "name": "python3",
      "display_name": "Python 3"
    },
    "language_info": {
      "name": "python"
    }
  },
  "cells": [
    {
      "cell_type": "markdown",
      "source": [
        "# **5. Random number**\n",
        "Print 10 random numbers in the range 1 to 100.\n",
        "\n",
        "Here is an example run:\n",
        "\n",
        "45 79 61 47 52 10 16 83 19 12\n",
        "\n",
        "Each time you run your program you should get different numbers\n",
        "\n",
        "81 76 70 1 27 63 96 100 32 92\n",
        "\n",
        "Recall that the python random library has a function randint which returns an integer in the range set by the parameters (inclusive). For example this call would produce a random integer between 1 and 6, which could include 1 and could include 6:\n",
        "\n",
        "value = random.randint(1, 6)"
      ],
      "metadata": {
        "id": "TQPUgJPn1rGx"
      }
    },
    {
      "cell_type": "code",
      "source": [
        "#import library\n",
        "import random\n",
        "\n",
        "min_num:int=1\n",
        "max_num:int=100\n",
        "\n",
        "#function\n",
        "def main():\n",
        "  for i in range(10):        # for loop to generate 10 random number\n",
        "    value = random.randint(min_num,max_num)      # genrate random number between 1 to 100\n",
        "    print(value,end=\" \")        # print the value with space\n",
        "\n",
        "main()"
      ],
      "metadata": {
        "colab": {
          "base_uri": "https://localhost:8080/"
        },
        "id": "paAihWNC1yJJ",
        "outputId": "daa53403-92de-486b-d860-0d3adef8f486"
      },
      "execution_count": null,
      "outputs": [
        {
          "output_type": "stream",
          "name": "stdout",
          "text": [
            "94 13 54 11 16 82 10 7 87 76 "
          ]
        }
      ]
    }
  ]
}