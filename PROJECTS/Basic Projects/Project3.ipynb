{
  "nbformat": 4,
  "nbformat_minor": 0,
  "metadata": {
    "colab": {
      "provenance": []
    },
    "kernelspec": {
      "name": "python3",
      "display_name": "Python 3"
    },
    "language_info": {
      "name": "python"
    }
  },
  "cells": [
    {
      "cell_type": "markdown",
      "source": [
        "# **3.Take off counter**\n",
        "Write a program that prints out the calls for a spaceship that is about to launch. Countdown from 10 to 1 and then output Liftoff!\n",
        "\n",
        "Here's a sample run of the program:\n",
        "\n",
        "10 9 8 7 6 5 4 3 2 1 Liftoff!"
      ],
      "metadata": {
        "id": "gI8P3V6CP_ay"
      }
    },
    {
      "cell_type": "code",
      "source": [
        "def main():\n",
        "  # countdown from 10 to 1\n",
        "  for i in range(10 ,0,-1):\n",
        "    print(i ,end= \" \" )\n",
        "  print('Liftoff!')\n",
        "\n",
        "\n",
        "# This provided line is required at the end of\n",
        "# Python file to call the main() function.\n",
        "if __name__ == '__main__':\n",
        "    main()"
      ],
      "metadata": {
        "id": "maF7rn8jQCG-",
        "colab": {
          "base_uri": "https://localhost:8080/"
        },
        "outputId": "ba44429a-dba8-4b31-b74e-b13468a24735"
      },
      "execution_count": 1,
      "outputs": [
        {
          "output_type": "stream",
          "name": "stdout",
          "text": [
            "10 9 8 7 6 5 4 3 2 1 Liftoff!\n"
          ]
        }
      ]
    }
  ]
}