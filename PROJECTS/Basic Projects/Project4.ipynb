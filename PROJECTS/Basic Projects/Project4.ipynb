{
  "nbformat": 4,
  "nbformat_minor": 0,
  "metadata": {
    "colab": {
      "provenance": [],
      "gpuType": "T4"
    },
    "kernelspec": {
      "name": "python3",
      "display_name": "Python 3"
    },
    "language_info": {
      "name": "python"
    },
    "accelerator": "GPU"
  },
  "cells": [
    {
      "cell_type": "markdown",
      "source": [
        "# **4.GAME**\n",
        "# **Guess My Number!**\n",
        "I am thinking of a number between 0 and 99... Enter a guess: 50 Your guess is too high\n",
        "\n",
        "Enter a new number: 25 Your guess is too low\n",
        "\n",
        "Enter a new number: 40 Your guess is too low\n",
        "\n",
        "Enter a new number: 45 Your guess is too low\n",
        "\n",
        "Enter a new number: 48 Congrats! The number was: 48"
      ],
      "metadata": {
        "id": "e3vKMQx0SC27"
      }
    },
    {
      "cell_type": "code",
      "source": [
        "#import library\n",
        "\n",
        "import random\n",
        "\n",
        "# create function\n",
        "def main():\n",
        "  print(\" I am thinking of number between 0 to 99.\")\n",
        "  print()           # for space\n",
        "  random_number=random.randint(0,99)    # random generate number\n",
        "\n",
        "  allowed_attempts: int= 5             #set the attempt\n",
        "  user_attempt :int=0\n",
        "\n",
        "  while user_attempt < allowed_attempts:\n",
        "    print(f\"Attempts left: {allowed_attempts - user_attempt}\")\n",
        "    user_input:int = int(input(\"Enter a number between 0 to 99: \"))\n",
        "    user_attempt += 1          # increment the  attempt counter\n",
        "\n",
        "    if user_input == random_number:\n",
        "      print()\n",
        "      print(f\"Congrats! The number was: {random_number}\")\n",
        "      break        # stop loop\n",
        "\n",
        "    if user_input < random_number:\n",
        "      print(\"Your guess is too low.\")\n",
        "    elif user_input > random_number:\n",
        "      print(\"Your guess is too high.\")\n",
        "  if user_input != random_number:\n",
        "     print(\"Game Over\")\n",
        "     print()     # for space\n",
        "     print(f\"Sorry! you've used all your attempts: The Number was :{random_number}\")   # message for user\n",
        "\n",
        " #call the function\n",
        "main()"
      ],
      "metadata": {
        "colab": {
          "base_uri": "https://localhost:8080/"
        },
        "id": "ilbKe7IxSGFJ",
        "outputId": "4bf3ea57-e0d6-49de-acc7-1a050de3045b",
        "collapsed": true
      },
      "execution_count": null,
      "outputs": [
        {
          "output_type": "stream",
          "name": "stdout",
          "text": [
            " I am thinking of number between 0 to 99.\n",
            "\n",
            "Attempts left: 5\n",
            "Enter a number between 0 to 99: 76\n",
            "Your guess is too high.\n",
            "Attempts left: 4\n",
            "Enter a number between 0 to 99: 54\n",
            "Your guess is too high.\n",
            "Attempts left: 3\n",
            "Enter a number between 0 to 99: 32\n",
            "Your guess is too low.\n",
            "Attempts left: 2\n",
            "Enter a number between 0 to 99: 48\n",
            "Your guess is too high.\n",
            "Attempts left: 1\n",
            "Enter a number between 0 to 99: 39\n",
            "Your guess is too high.\n",
            "Game Over\n",
            "\n",
            "Sorry! you've used all your attempts: The Number was :38\n"
          ]
        }
      ]
    }
  ]
}